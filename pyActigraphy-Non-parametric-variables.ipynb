{
 "cells": [
  {
   "cell_type": "markdown",
   "metadata": {
    "toc": true
   },
   "source": [
    "<h1>Table of Contents<span class=\"tocSkip\"></span></h1>\n",
    "<div class=\"toc\"><ul class=\"toc-item\"><li><span><a href=\"#Interdaily-stability-&amp;-intradaily-variability\" data-toc-modified-id=\"Interdaily-stability-&amp;-intradaily-variability-1\"><span class=\"toc-item-num\">1&nbsp;&nbsp;</span>Interdaily stability &amp; intradaily variability</a></span><ul class=\"toc-item\"><li><span><a href=\"#Changing-the-resampling-frequency\" data-toc-modified-id=\"Changing-the-resampling-frequency-1.1\"><span class=\"toc-item-num\">1.1&nbsp;&nbsp;</span>Changing the resampling frequency</a></span></li><li><span><a href=\"#Changing-the-threshold\" data-toc-modified-id=\"Changing-the-threshold-1.2\"><span class=\"toc-item-num\">1.2&nbsp;&nbsp;</span>Changing the threshold</a></span></li><li><span><a href=\"#Without-binarizing-the-data\" data-toc-modified-id=\"Without-binarizing-the-data-1.3\"><span class=\"toc-item-num\">1.3&nbsp;&nbsp;</span>Without binarizing the data</a></span></li></ul></li><li><span><a href=\"#Relative-amplitude\" data-toc-modified-id=\"Relative-amplitude-2\"><span class=\"toc-item-num\">2&nbsp;&nbsp;</span>Relative amplitude</a></span></li><li><span><a href=\"#Mean-IS-and-IV\" data-toc-modified-id=\"Mean-IS-and-IV-3\"><span class=\"toc-item-num\">3&nbsp;&nbsp;</span>Mean IS and IV</a></span></li><li><span><a href=\"#IS,-IV-and-RA-per-period\" data-toc-modified-id=\"IS,-IV-and-RA-per-period-4\"><span class=\"toc-item-num\">4&nbsp;&nbsp;</span>IS, IV and RA per period</a></span></li></ul></div>"
   ]
  },
  {
   "cell_type": "markdown",
   "metadata": {},
   "source": [
    "# Non-parametric variables with pyActigraphy"
   ]
  },
  {
   "cell_type": "markdown",
   "metadata": {},
   "source": [
    "Non-parametric variables such as:\n",
    "\n",
    "* Interdaily stability (IS)\n",
    "* Intradaily variability (IV)\n",
    "* Relative amplitude (RA)\n",
    "\n",
    "can easily be calculated with the pyActigraphy package."
   ]
  },
  {
   "cell_type": "markdown",
   "metadata": {},
   "source": [
    "First import the pyActigraphy package and read your favorite actigraphy data file:"
   ]
  },
  {
   "cell_type": "code",
   "execution_count": 1,
   "metadata": {
    "execution": {
     "iopub.execute_input": "2023-01-25T13:11:13.641497Z",
     "iopub.status.busy": "2023-01-25T13:11:13.640489Z",
     "iopub.status.idle": "2023-01-25T13:11:14.703658Z",
     "shell.execute_reply": "2023-01-25T13:11:14.703929Z"
    }
   },
   "outputs": [],
   "source": [
    "import pyActigraphy"
   ]
  },
  {
   "cell_type": "code",
   "execution_count": 2,
   "metadata": {
    "execution": {
     "iopub.execute_input": "2023-01-25T13:11:14.706545Z",
     "iopub.status.busy": "2023-01-25T13:11:14.706143Z",
     "iopub.status.idle": "2023-01-25T13:11:14.707592Z",
     "shell.execute_reply": "2023-01-25T13:11:14.707871Z"
    }
   },
   "outputs": [],
   "source": [
    "import os\n",
    "fpath = os.path.join(os.path.dirname(pyActigraphy.__file__),'tests/data/')"
   ]
  },
  {
   "cell_type": "code",
   "execution_count": 3,
   "metadata": {
    "execution": {
     "iopub.execute_input": "2023-01-25T13:11:14.710151Z",
     "iopub.status.busy": "2023-01-25T13:11:14.709737Z",
     "iopub.status.idle": "2023-01-25T13:11:14.722138Z",
     "shell.execute_reply": "2023-01-25T13:11:14.722390Z"
    }
   },
   "outputs": [],
   "source": [
    "# Read test file\n",
    "raw = pyActigraphy.io.read_raw_awd(fpath+'example_01.AWD')"
   ]
  },
  {
   "cell_type": "markdown",
   "metadata": {},
   "source": [
    "## Interdaily stability & intradaily variability"
   ]
  },
  {
   "cell_type": "markdown",
   "metadata": {},
   "source": [
    "For both variables, the default parameters are:\n",
    "\n",
    "* resampling frequency = '1H'\n",
    "* binarize data = True\n",
    "* threshold = 4"
   ]
  },
  {
   "cell_type": "code",
   "execution_count": 4,
   "metadata": {
    "execution": {
     "iopub.execute_input": "2023-01-25T13:11:14.724974Z",
     "iopub.status.busy": "2023-01-25T13:11:14.724551Z",
     "iopub.status.idle": "2023-01-25T13:11:14.733351Z",
     "shell.execute_reply": "2023-01-25T13:11:14.733644Z"
    }
   },
   "outputs": [
    {
     "data": {
      "text/plain": [
       "0.527656245354158"
      ]
     },
     "execution_count": 1,
     "metadata": {},
     "output_type": "execute_result"
    }
   ],
   "source": [
    "raw.IS()"
   ]
  },
  {
   "cell_type": "code",
   "execution_count": 5,
   "metadata": {
    "execution": {
     "iopub.execute_input": "2023-01-25T13:11:14.738025Z",
     "iopub.status.busy": "2023-01-25T13:11:14.737570Z",
     "iopub.status.idle": "2023-01-25T13:11:14.740246Z",
     "shell.execute_reply": "2023-01-25T13:11:14.740631Z"
    }
   },
   "outputs": [
    {
     "data": {
      "text/plain": [
       "0.32913524895082263"
      ]
     },
     "execution_count": 1,
     "metadata": {},
     "output_type": "execute_result"
    }
   ],
   "source": [
    "raw.IV()"
   ]
  },
  {
   "cell_type": "markdown",
   "metadata": {},
   "source": [
    "However, it is possible to change these parameters."
   ]
  },
  {
   "cell_type": "markdown",
   "metadata": {},
   "source": [
    "### Changing the resampling frequency"
   ]
  },
  {
   "cell_type": "markdown",
   "metadata": {},
   "source": [
    "To calculate the IS&IV with a resampling frequency of 30 minutes, for example:"
   ]
  },
  {
   "cell_type": "code",
   "execution_count": 6,
   "metadata": {
    "execution": {
     "iopub.execute_input": "2023-01-25T13:11:14.744751Z",
     "iopub.status.busy": "2023-01-25T13:11:14.744336Z",
     "iopub.status.idle": "2023-01-25T13:11:14.747759Z",
     "shell.execute_reply": "2023-01-25T13:11:14.748046Z"
    }
   },
   "outputs": [
    {
     "data": {
      "text/plain": [
       "0.49538299172546324"
      ]
     },
     "execution_count": 1,
     "metadata": {},
     "output_type": "execute_result"
    }
   ],
   "source": [
    "raw.IS(freq='30min')"
   ]
  },
  {
   "cell_type": "code",
   "execution_count": 7,
   "metadata": {
    "execution": {
     "iopub.execute_input": "2023-01-25T13:11:14.751861Z",
     "iopub.status.busy": "2023-01-25T13:11:14.751439Z",
     "iopub.status.idle": "2023-01-25T13:11:14.754090Z",
     "shell.execute_reply": "2023-01-25T13:11:14.754364Z"
    }
   },
   "outputs": [
    {
     "data": {
      "text/plain": [
       "0.314973337080311"
      ]
     },
     "execution_count": 1,
     "metadata": {},
     "output_type": "execute_result"
    }
   ],
   "source": [
    "raw.IV(freq='30min')"
   ]
  },
  {
   "cell_type": "markdown",
   "metadata": {},
   "source": [
    "### Changing the threshold"
   ]
  },
  {
   "cell_type": "markdown",
   "metadata": {},
   "source": [
    "To calculate IS&IV with a different threshold on the activity count when binarizing the data:"
   ]
  },
  {
   "cell_type": "code",
   "execution_count": 8,
   "metadata": {
    "execution": {
     "iopub.execute_input": "2023-01-25T13:11:14.756969Z",
     "iopub.status.busy": "2023-01-25T13:11:14.756494Z",
     "iopub.status.idle": "2023-01-25T13:11:14.760991Z",
     "shell.execute_reply": "2023-01-25T13:11:14.761395Z"
    }
   },
   "outputs": [
    {
     "data": {
      "text/plain": [
       "0.5418567121727559"
      ]
     },
     "execution_count": 1,
     "metadata": {},
     "output_type": "execute_result"
    }
   ],
   "source": [
    "raw.IS(threshold=10)"
   ]
  },
  {
   "cell_type": "code",
   "execution_count": 9,
   "metadata": {
    "execution": {
     "iopub.execute_input": "2023-01-25T13:11:14.765146Z",
     "iopub.status.busy": "2023-01-25T13:11:14.764686Z",
     "iopub.status.idle": "2023-01-25T13:11:14.767374Z",
     "shell.execute_reply": "2023-01-25T13:11:14.767643Z"
    }
   },
   "outputs": [
    {
     "data": {
      "text/plain": [
       "0.33654319292100576"
      ]
     },
     "execution_count": 1,
     "metadata": {},
     "output_type": "execute_result"
    }
   ],
   "source": [
    "raw.IV(threshold=10)"
   ]
  },
  {
   "cell_type": "markdown",
   "metadata": {},
   "source": [
    "### Without binarizing the data"
   ]
  },
  {
   "cell_type": "markdown",
   "metadata": {},
   "source": [
    "It is also possible to calculate these variables without binarizing the data:"
   ]
  },
  {
   "cell_type": "code",
   "execution_count": 10,
   "metadata": {
    "execution": {
     "iopub.execute_input": "2023-01-25T13:11:14.770753Z",
     "iopub.status.busy": "2023-01-25T13:11:14.770338Z",
     "iopub.status.idle": "2023-01-25T13:11:14.773586Z",
     "shell.execute_reply": "2023-01-25T13:11:14.773844Z"
    }
   },
   "outputs": [
    {
     "data": {
      "text/plain": [
       "0.46561431150973936"
      ]
     },
     "execution_count": 1,
     "metadata": {},
     "output_type": "execute_result"
    }
   ],
   "source": [
    "raw.IS(binarize=False)"
   ]
  },
  {
   "cell_type": "code",
   "execution_count": 11,
   "metadata": {
    "execution": {
     "iopub.execute_input": "2023-01-25T13:11:14.775625Z",
     "iopub.status.busy": "2023-01-25T13:11:14.775198Z",
     "iopub.status.idle": "2023-01-25T13:11:14.779070Z",
     "shell.execute_reply": "2023-01-25T13:11:14.779400Z"
    }
   },
   "outputs": [
    {
     "data": {
      "text/plain": [
       "0.7095292983583361"
      ]
     },
     "execution_count": 1,
     "metadata": {},
     "output_type": "execute_result"
    }
   ],
   "source": [
    "raw.IV(binarize=False)"
   ]
  },
  {
   "cell_type": "markdown",
   "metadata": {},
   "source": [
    "## Relative amplitude"
   ]
  },
  {
   "cell_type": "markdown",
   "metadata": {},
   "source": [
    "Similarly, the default parameters for the relative amplitude (RA) are:\n",
    "\n",
    "* binarize data = True\n",
    "* threshold = 4\n",
    "\n",
    "It is not possible to specify a resampling frequency as the RA is independant of this parameter."
   ]
  },
  {
   "cell_type": "code",
   "execution_count": 12,
   "metadata": {
    "execution": {
     "iopub.execute_input": "2023-01-25T13:11:14.782602Z",
     "iopub.status.busy": "2023-01-25T13:11:14.782182Z",
     "iopub.status.idle": "2023-01-25T13:11:14.791787Z",
     "shell.execute_reply": "2023-01-25T13:11:14.792118Z"
    }
   },
   "outputs": [
    {
     "data": {
      "text/plain": [
       "0.7576503909857768"
      ]
     },
     "execution_count": 1,
     "metadata": {},
     "output_type": "execute_result"
    }
   ],
   "source": [
    "raw.RA()"
   ]
  },
  {
   "cell_type": "code",
   "execution_count": 13,
   "metadata": {
    "execution": {
     "iopub.execute_input": "2023-01-25T13:11:14.794476Z",
     "iopub.status.busy": "2023-01-25T13:11:14.794078Z",
     "iopub.status.idle": "2023-01-25T13:11:14.803964Z",
     "shell.execute_reply": "2023-01-25T13:11:14.804240Z"
    },
    "scrolled": true
   },
   "outputs": [
    {
     "data": {
      "text/plain": [
       "0.9168632026873167"
      ]
     },
     "execution_count": 1,
     "metadata": {},
     "output_type": "execute_result"
    }
   ],
   "source": [
    "raw.RA(binarize=False)"
   ]
  },
  {
   "cell_type": "markdown",
   "metadata": {},
   "source": [
    "## Mean IS and IV"
   ]
  },
  {
   "cell_type": "markdown",
   "metadata": {},
   "source": [
    "In _Nonparametric methods in actigraphy: An update_, Gonçalves et al. introduced two new variables, ISm and IVm, as the mean of the IS and IV (respectively) values calculated as different resampling frequencies."
   ]
  },
  {
   "cell_type": "markdown",
   "metadata": {},
   "source": [
    "These two additional variables are also available in the **_pyActigraphy_** package.\n",
    "For both variables, the default parameters are:\n",
    "\n",
    "* resampling frequencies = [1,2,3,4,5,6,8,9,10,12,15,16,18,20,24,30,32,36,40,45,48,60] (min)\n",
    "* binarize data = True\n",
    "* threshold = 4"
   ]
  },
  {
   "cell_type": "code",
   "execution_count": 14,
   "metadata": {
    "execution": {
     "iopub.execute_input": "2023-01-25T13:11:14.808785Z",
     "iopub.status.busy": "2023-01-25T13:11:14.807445Z",
     "iopub.status.idle": "2023-01-25T13:11:14.864267Z",
     "shell.execute_reply": "2023-01-25T13:11:14.864606Z"
    }
   },
   "outputs": [
    {
     "data": {
      "text/plain": [
       "0.47064337220625074"
      ]
     },
     "execution_count": 1,
     "metadata": {},
     "output_type": "execute_result"
    }
   ],
   "source": [
    "raw.ISm()"
   ]
  },
  {
   "cell_type": "code",
   "execution_count": 15,
   "metadata": {
    "execution": {
     "iopub.execute_input": "2023-01-25T13:11:14.868125Z",
     "iopub.status.busy": "2023-01-25T13:11:14.867712Z",
     "iopub.status.idle": "2023-01-25T13:11:14.906207Z",
     "shell.execute_reply": "2023-01-25T13:11:14.906551Z"
    }
   },
   "outputs": [
    {
     "data": {
      "text/plain": [
       "0.2706746158264432"
      ]
     },
     "execution_count": 1,
     "metadata": {},
     "output_type": "execute_result"
    }
   ],
   "source": [
    "raw.IVm()"
   ]
  },
  {
   "cell_type": "markdown",
   "metadata": {},
   "source": [
    "To change the resampling frequencies:"
   ]
  },
  {
   "cell_type": "code",
   "execution_count": 16,
   "metadata": {
    "execution": {
     "iopub.execute_input": "2023-01-25T13:11:14.908917Z",
     "iopub.status.busy": "2023-01-25T13:11:14.908528Z",
     "iopub.status.idle": "2023-01-25T13:11:14.909826Z",
     "shell.execute_reply": "2023-01-25T13:11:14.910151Z"
    }
   },
   "outputs": [],
   "source": [
    "new_resampling_frequencies = ['5min','30min','1H']"
   ]
  },
  {
   "cell_type": "code",
   "execution_count": 17,
   "metadata": {
    "execution": {
     "iopub.execute_input": "2023-01-25T13:11:14.913931Z",
     "iopub.status.busy": "2023-01-25T13:11:14.913516Z",
     "iopub.status.idle": "2023-01-25T13:11:14.921992Z",
     "shell.execute_reply": "2023-01-25T13:11:14.922309Z"
    }
   },
   "outputs": [
    {
     "data": {
      "text/plain": [
       "0.48841431777142963"
      ]
     },
     "execution_count": 1,
     "metadata": {},
     "output_type": "execute_result"
    }
   ],
   "source": [
    "raw.ISm(freqs=new_resampling_frequencies)"
   ]
  },
  {
   "cell_type": "markdown",
   "metadata": {},
   "source": [
    "## IS, IV and RA per period"
   ]
  },
  {
   "cell_type": "markdown",
   "metadata": {},
   "source": [
    "**_pyActigraphy_** introduces a new concept concerning the calculation of the non-parametric variables: it is now possible to calculate them per period."
   ]
  },
  {
   "cell_type": "markdown",
   "metadata": {},
   "source": [
    "The acquisition period is split in consecutive periods with the required length (if possible) and the non-parametric variable is then calculated for each period:"
   ]
  },
  {
   "cell_type": "code",
   "execution_count": 18,
   "metadata": {
    "execution": {
     "iopub.execute_input": "2023-01-25T13:11:14.926101Z",
     "iopub.status.busy": "2023-01-25T13:11:14.925681Z",
     "iopub.status.idle": "2023-01-25T13:11:14.928990Z",
     "shell.execute_reply": "2023-01-25T13:11:14.929251Z"
    }
   },
   "outputs": [
    {
     "data": {
      "text/plain": [
       "[0.6876777827182482]"
      ]
     },
     "execution_count": 1,
     "metadata": {},
     "output_type": "execute_result"
    }
   ],
   "source": [
    "raw.ISp()"
   ]
  },
  {
   "cell_type": "markdown",
   "metadata": {},
   "source": [
    "By default, the period length is 7 days. But this parameter can easily be changed:"
   ]
  },
  {
   "cell_type": "code",
   "execution_count": 19,
   "metadata": {
    "execution": {
     "iopub.execute_input": "2023-01-25T13:11:14.931635Z",
     "iopub.status.busy": "2023-01-25T13:11:14.931192Z",
     "iopub.status.idle": "2023-01-25T13:11:14.937738Z",
     "shell.execute_reply": "2023-01-25T13:11:14.938059Z"
    }
   },
   "outputs": [
    {
     "data": {
      "text/plain": [
       "[0.629359516562714, 0.8780603587977001, 0.43948376768341835]"
      ]
     },
     "execution_count": 1,
     "metadata": {},
     "output_type": "execute_result"
    }
   ],
   "source": [
    "# Period of 4 days for example\n",
    "raw.ISp(period='4D')"
   ]
  },
  {
   "cell_type": "markdown",
   "metadata": {},
   "source": [
    "In order to find out how many periods were found in the actigraphy record:"
   ]
  },
  {
   "cell_type": "code",
   "execution_count": 20,
   "metadata": {
    "execution": {
     "iopub.execute_input": "2023-01-25T13:11:14.941861Z",
     "iopub.status.busy": "2023-01-25T13:11:14.941390Z",
     "iopub.status.idle": "2023-01-25T13:11:14.947129Z",
     "shell.execute_reply": "2023-01-25T13:11:14.947464Z"
    }
   },
   "outputs": [
    {
     "name": "stdout",
     "output_type": "stream",
     "text": [
      "Number of periods: 3\n",
      " Time unaccounted for: 0 days, 18h, 0m, 0s\n"
     ]
    },
    {
     "data": {
      "text/plain": [
       "[0.629359516562714, 0.8780603587977001, 0.43948376768341835]"
      ]
     },
     "execution_count": 1,
     "metadata": {},
     "output_type": "execute_result"
    }
   ],
   "source": [
    "raw.ISp(period='4D', verbose=True)"
   ]
  },
  {
   "cell_type": "markdown",
   "metadata": {},
   "source": [
    "Et voilà!"
   ]
  }
 ],
 "metadata": {
  "kernelspec": {
   "display_name": "pyActi37",
   "language": "python",
   "name": "pyacti37"
  },
  "language_info": {
   "codemirror_mode": {
    "name": "ipython",
    "version": 3
   },
   "file_extension": ".py",
   "mimetype": "text/x-python",
   "name": "python",
   "nbconvert_exporter": "python",
   "pygments_lexer": "ipython3",
   "version": "3.7.12"
  },
  "toc": {
   "base_numbering": 1,
   "nav_menu": {},
   "number_sections": true,
   "sideBar": true,
   "skip_h1_title": true,
   "title_cell": "Table of Contents",
   "title_sidebar": "Contents",
   "toc_cell": true,
   "toc_position": {},
   "toc_section_display": true,
   "toc_window_display": false
  }
 },
 "nbformat": 4,
 "nbformat_minor": 2
}
