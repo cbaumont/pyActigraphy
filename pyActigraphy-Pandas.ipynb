{
 "cells": [
  {
   "cell_type": "markdown",
   "metadata": {},
   "source": [
    "# How to read data from DataFrames with pyActigraphy"
   ]
  },
  {
   "cell_type": "markdown",
   "metadata": {},
   "source": [
    "## Imported packages and input data"
   ]
  },
  {
   "cell_type": "markdown",
   "metadata": {},
   "source": [
    "The usual suspects:"
   ]
  },
  {
   "cell_type": "code",
   "execution_count": 1,
   "metadata": {
    "execution": {
     "iopub.execute_input": "2023-01-25T13:11:17.931330Z",
     "iopub.status.busy": "2023-01-25T13:11:17.930239Z",
     "iopub.status.idle": "2023-01-25T13:11:18.009267Z",
     "shell.execute_reply": "2023-01-25T13:11:18.009545Z"
    }
   },
   "outputs": [],
   "source": [
    "import numpy as np"
   ]
  },
  {
   "cell_type": "code",
   "execution_count": 2,
   "metadata": {
    "execution": {
     "iopub.execute_input": "2023-01-25T13:11:18.011931Z",
     "iopub.status.busy": "2023-01-25T13:11:18.011496Z",
     "iopub.status.idle": "2023-01-25T13:11:18.150928Z",
     "shell.execute_reply": "2023-01-25T13:11:18.151248Z"
    }
   },
   "outputs": [],
   "source": [
    "import pandas as pd"
   ]
  },
  {
   "cell_type": "code",
   "execution_count": 3,
   "metadata": {
    "execution": {
     "iopub.execute_input": "2023-01-25T13:11:18.153545Z",
     "iopub.status.busy": "2023-01-25T13:11:18.153112Z",
     "iopub.status.idle": "2023-01-25T13:11:19.000656Z",
     "shell.execute_reply": "2023-01-25T13:11:19.000952Z"
    }
   },
   "outputs": [],
   "source": [
    "import pyActigraphy"
   ]
  },
  {
   "cell_type": "markdown",
   "metadata": {},
   "source": [
    "In this example, let's generate some input data:"
   ]
  },
  {
   "cell_type": "markdown",
   "metadata": {},
   "source": [
    "NB: if you already have your data under a pandas.DataFrame format, jump directly to the next section."
   ]
  },
  {
   "cell_type": "code",
   "execution_count": 4,
   "metadata": {
    "execution": {
     "iopub.execute_input": "2023-01-25T13:11:19.003620Z",
     "iopub.status.busy": "2023-01-25T13:11:19.003109Z",
     "iopub.status.idle": "2023-01-25T13:11:19.004280Z",
     "shell.execute_reply": "2023-01-25T13:11:19.004540Z"
    }
   },
   "outputs": [],
   "source": [
    "N = 1440*7 # 7 days of acquisition at a frequency of 60s."
   ]
  },
  {
   "cell_type": "code",
   "execution_count": 5,
   "metadata": {
    "execution": {
     "iopub.execute_input": "2023-01-25T13:11:19.007023Z",
     "iopub.status.busy": "2023-01-25T13:11:19.006611Z",
     "iopub.status.idle": "2023-01-25T13:11:19.008494Z",
     "shell.execute_reply": "2023-01-25T13:11:19.008766Z"
    }
   },
   "outputs": [],
   "source": [
    "activity = np.random.normal(10,1,N)\n",
    "light = np.random.normal(100,10,N)"
   ]
  },
  {
   "cell_type": "code",
   "execution_count": 6,
   "metadata": {
    "execution": {
     "iopub.execute_input": "2023-01-25T13:11:19.010938Z",
     "iopub.status.busy": "2023-01-25T13:11:19.010544Z",
     "iopub.status.idle": "2023-01-25T13:11:19.011930Z",
     "shell.execute_reply": "2023-01-25T13:11:19.012209Z"
    }
   },
   "outputs": [],
   "source": [
    "non_wear = np.empty(N)"
   ]
  },
  {
   "cell_type": "code",
   "execution_count": 7,
   "metadata": {
    "execution": {
     "iopub.execute_input": "2023-01-25T13:11:19.014553Z",
     "iopub.status.busy": "2023-01-25T13:11:19.014098Z",
     "iopub.status.idle": "2023-01-25T13:11:19.015339Z",
     "shell.execute_reply": "2023-01-25T13:11:19.015580Z"
    }
   },
   "outputs": [],
   "source": [
    "# Set up a segment of  spurious inactivity\n",
    "activity[2060:2160] = 0.0\n",
    "non_wear[2060:2160] = 1.0"
   ]
  },
  {
   "cell_type": "code",
   "execution_count": 8,
   "metadata": {
    "execution": {
     "iopub.execute_input": "2023-01-25T13:11:19.017844Z",
     "iopub.status.busy": "2023-01-25T13:11:19.017437Z",
     "iopub.status.idle": "2023-01-25T13:11:19.018688Z",
     "shell.execute_reply": "2023-01-25T13:11:19.018944Z"
    }
   },
   "outputs": [],
   "source": [
    "d = {'Activity': activity, 'Light': light, 'Non-wear': non_wear}"
   ]
  },
  {
   "cell_type": "code",
   "execution_count": 9,
   "metadata": {
    "execution": {
     "iopub.execute_input": "2023-01-25T13:11:19.021486Z",
     "iopub.status.busy": "2023-01-25T13:11:19.021036Z",
     "iopub.status.idle": "2023-01-25T13:11:19.022262Z",
     "shell.execute_reply": "2023-01-25T13:11:19.022497Z"
    }
   },
   "outputs": [],
   "source": [
    "index = pd.date_range(start='01-01-2020',freq='60s',periods=N)"
   ]
  },
  {
   "cell_type": "code",
   "execution_count": 10,
   "metadata": {
    "execution": {
     "iopub.execute_input": "2023-01-25T13:11:19.025198Z",
     "iopub.status.busy": "2023-01-25T13:11:19.024796Z",
     "iopub.status.idle": "2023-01-25T13:11:19.026171Z",
     "shell.execute_reply": "2023-01-25T13:11:19.026414Z"
    }
   },
   "outputs": [],
   "source": [
    "data = pd.DataFrame(index=index,data=d)"
   ]
  },
  {
   "cell_type": "code",
   "execution_count": 11,
   "metadata": {
    "execution": {
     "iopub.execute_input": "2023-01-25T13:11:19.030258Z",
     "iopub.status.busy": "2023-01-25T13:11:19.029861Z",
     "iopub.status.idle": "2023-01-25T13:11:19.037622Z",
     "shell.execute_reply": "2023-01-25T13:11:19.037897Z"
    }
   },
   "outputs": [
    {
     "data": {
      "text/html": [
       "<div>\n",
       "<style scoped>\n",
       "    .dataframe tbody tr th:only-of-type {\n",
       "        vertical-align: middle;\n",
       "    }\n",
       "\n",
       "    .dataframe tbody tr th {\n",
       "        vertical-align: top;\n",
       "    }\n",
       "\n",
       "    .dataframe thead th {\n",
       "        text-align: right;\n",
       "    }\n",
       "</style>\n",
       "<table border=\"1\" class=\"dataframe\">\n",
       "  <thead>\n",
       "    <tr style=\"text-align: right;\">\n",
       "      <th></th>\n",
       "      <th>Activity</th>\n",
       "      <th>Light</th>\n",
       "      <th>Non-wear</th>\n",
       "    </tr>\n",
       "  </thead>\n",
       "  <tbody>\n",
       "    <tr>\n",
       "      <th>2020-01-01 00:00:00</th>\n",
       "      <td>9.342980</td>\n",
       "      <td>88.271312</td>\n",
       "      <td>0.000000e+00</td>\n",
       "    </tr>\n",
       "    <tr>\n",
       "      <th>2020-01-01 00:01:00</th>\n",
       "      <td>9.828015</td>\n",
       "      <td>86.814367</td>\n",
       "      <td>2.193078e-314</td>\n",
       "    </tr>\n",
       "    <tr>\n",
       "      <th>2020-01-01 00:02:00</th>\n",
       "      <td>9.829185</td>\n",
       "      <td>89.269111</td>\n",
       "      <td>8.319226e-319</td>\n",
       "    </tr>\n",
       "    <tr>\n",
       "      <th>2020-01-01 00:03:00</th>\n",
       "      <td>11.650134</td>\n",
       "      <td>100.820727</td>\n",
       "      <td>NaN</td>\n",
       "    </tr>\n",
       "    <tr>\n",
       "      <th>2020-01-01 00:04:00</th>\n",
       "      <td>10.201251</td>\n",
       "      <td>113.166345</td>\n",
       "      <td>8.331307e-316</td>\n",
       "    </tr>\n",
       "    <tr>\n",
       "      <th>...</th>\n",
       "      <td>...</td>\n",
       "      <td>...</td>\n",
       "      <td>...</td>\n",
       "    </tr>\n",
       "    <tr>\n",
       "      <th>2020-01-07 23:55:00</th>\n",
       "      <td>11.120278</td>\n",
       "      <td>100.841176</td>\n",
       "      <td>1.163115e+214</td>\n",
       "    </tr>\n",
       "    <tr>\n",
       "      <th>2020-01-07 23:56:00</th>\n",
       "      <td>11.057372</td>\n",
       "      <td>116.926055</td>\n",
       "      <td>2.427668e-154</td>\n",
       "    </tr>\n",
       "    <tr>\n",
       "      <th>2020-01-07 23:57:00</th>\n",
       "      <td>9.717031</td>\n",
       "      <td>107.979246</td>\n",
       "      <td>2.288961e+243</td>\n",
       "    </tr>\n",
       "    <tr>\n",
       "      <th>2020-01-07 23:58:00</th>\n",
       "      <td>10.377258</td>\n",
       "      <td>100.955777</td>\n",
       "      <td>2.473798e-91</td>\n",
       "    </tr>\n",
       "    <tr>\n",
       "      <th>2020-01-07 23:59:00</th>\n",
       "      <td>9.772486</td>\n",
       "      <td>104.259887</td>\n",
       "      <td>2.440413e-154</td>\n",
       "    </tr>\n",
       "  </tbody>\n",
       "</table>\n",
       "<p>10080 rows × 3 columns</p>\n",
       "</div>"
      ],
      "text/plain": [
       "                      Activity       Light       Non-wear\n",
       "2020-01-01 00:00:00   9.342980   88.271312   0.000000e+00\n",
       "2020-01-01 00:01:00   9.828015   86.814367  2.193078e-314\n",
       "2020-01-01 00:02:00   9.829185   89.269111  8.319226e-319\n",
       "2020-01-01 00:03:00  11.650134  100.820727            NaN\n",
       "2020-01-01 00:04:00  10.201251  113.166345  8.331307e-316\n",
       "...                        ...         ...            ...\n",
       "2020-01-07 23:55:00  11.120278  100.841176  1.163115e+214\n",
       "2020-01-07 23:56:00  11.057372  116.926055  2.427668e-154\n",
       "2020-01-07 23:57:00   9.717031  107.979246  2.288961e+243\n",
       "2020-01-07 23:58:00  10.377258  100.955777   2.473798e-91\n",
       "2020-01-07 23:59:00   9.772486  104.259887  2.440413e-154\n",
       "\n",
       "[10080 rows x 3 columns]"
      ]
     },
     "execution_count": 1,
     "metadata": {},
     "output_type": "execute_result"
    }
   ],
   "source": [
    "data"
   ]
  },
  {
   "cell_type": "markdown",
   "metadata": {},
   "source": [
    "## Manual creation of a BaseRaw object"
   ]
  },
  {
   "cell_type": "code",
   "execution_count": 12,
   "metadata": {
    "execution": {
     "iopub.execute_input": "2023-01-25T13:11:19.040134Z",
     "iopub.status.busy": "2023-01-25T13:11:19.039732Z",
     "iopub.status.idle": "2023-01-25T13:11:19.040981Z",
     "shell.execute_reply": "2023-01-25T13:11:19.041306Z"
    }
   },
   "outputs": [],
   "source": [
    "from pyActigraphy.io import BaseRaw"
   ]
  },
  {
   "cell_type": "markdown",
   "metadata": {},
   "source": [
    "help(BaseRaw)"
   ]
  },
  {
   "cell_type": "markdown",
   "metadata": {},
   "source": [
    "### Set activity and light data (if available)"
   ]
  },
  {
   "cell_type": "code",
   "execution_count": 13,
   "metadata": {
    "execution": {
     "iopub.execute_input": "2023-01-25T13:11:19.044797Z",
     "iopub.status.busy": "2023-01-25T13:11:19.044378Z",
     "iopub.status.idle": "2023-01-25T13:11:19.045685Z",
     "shell.execute_reply": "2023-01-25T13:11:19.046022Z"
    }
   },
   "outputs": [],
   "source": [
    "raw = BaseRaw(\n",
    "    name=\"myName\", \n",
    "    uuid='DeviceId', \n",
    "    format='Pandas', \n",
    "    axial_mode=None,\n",
    "    start_time=data.index[0],\n",
    "    period=(data.index[-1]-data.index[0]),\n",
    "    frequency=data.index.freq,\n",
    "    data=data['Activity'],\n",
    "    light=data['Light']\n",
    ")"
   ]
  },
  {
   "cell_type": "code",
   "execution_count": 14,
   "metadata": {
    "execution": {
     "iopub.execute_input": "2023-01-25T13:11:19.048238Z",
     "iopub.status.busy": "2023-01-25T13:11:19.047830Z",
     "iopub.status.idle": "2023-01-25T13:11:19.051163Z",
     "shell.execute_reply": "2023-01-25T13:11:19.051441Z"
    }
   },
   "outputs": [
    {
     "data": {
      "text/plain": [
       "2020-01-01 00:00:00     9.342980\n",
       "2020-01-01 00:01:00     9.828015\n",
       "2020-01-01 00:02:00     9.829185\n",
       "2020-01-01 00:03:00    11.650134\n",
       "2020-01-01 00:04:00    10.201251\n",
       "                         ...    \n",
       "2020-01-07 23:55:00    11.120278\n",
       "2020-01-07 23:56:00    11.057372\n",
       "2020-01-07 23:57:00     9.717031\n",
       "2020-01-07 23:58:00    10.377258\n",
       "2020-01-07 23:59:00     9.772486\n",
       "Freq: 60S, Name: Activity, Length: 10080, dtype: float64"
      ]
     },
     "execution_count": 1,
     "metadata": {},
     "output_type": "execute_result"
    }
   ],
   "source": [
    "raw.data"
   ]
  },
  {
   "cell_type": "markdown",
   "metadata": {},
   "source": [
    "### Set up a mask"
   ]
  },
  {
   "cell_type": "markdown",
   "metadata": {},
   "source": [
    "Most devices that have a wear sensor return this information as a binary time series with \"1\" when the device is most likely not worn and \"0\" otherwise.\n",
    "In pyActigraphy, this information can be used to create a mask and thus invalidate the corresponding data points (set to \"0\" most probably). However, the mask, the value \"1\" correspond to \"no masking\". So, depending on your \"non-wear\" data, be careful to transform them appropriately:"
   ]
  },
  {
   "cell_type": "code",
   "execution_count": 15,
   "metadata": {
    "execution": {
     "iopub.execute_input": "2023-01-25T13:11:19.053945Z",
     "iopub.status.busy": "2023-01-25T13:11:19.053544Z",
     "iopub.status.idle": "2023-01-25T13:11:19.055109Z",
     "shell.execute_reply": "2023-01-25T13:11:19.054837Z"
    }
   },
   "outputs": [],
   "source": [
    "# Here, I assume that 0: the device is worn, 1: device not worn. \n",
    "# As mentioned aboce, for the mask, 1: no masking. (NB: it is a convolution: data*mask)\n",
    "raw.mask = np.abs(data['Non-wear']-1)"
   ]
  },
  {
   "cell_type": "markdown",
   "metadata": {},
   "source": [
    "## Tests"
   ]
  },
  {
   "cell_type": "code",
   "execution_count": 16,
   "metadata": {
    "execution": {
     "iopub.execute_input": "2023-01-25T13:11:19.057803Z",
     "iopub.status.busy": "2023-01-25T13:11:19.057359Z",
     "iopub.status.idle": "2023-01-25T13:11:19.058897Z",
     "shell.execute_reply": "2023-01-25T13:11:19.059161Z"
    }
   },
   "outputs": [
    {
     "data": {
      "text/plain": [
       "<604800 * Seconds>"
      ]
     },
     "execution_count": 1,
     "metadata": {},
     "output_type": "execute_result"
    }
   ],
   "source": [
    "raw.duration()"
   ]
  },
  {
   "cell_type": "code",
   "execution_count": 17,
   "metadata": {
    "execution": {
     "iopub.execute_input": "2023-01-25T13:11:19.061659Z",
     "iopub.status.busy": "2023-01-25T13:11:19.061216Z",
     "iopub.status.idle": "2023-01-25T13:11:19.062831Z",
     "shell.execute_reply": "2023-01-25T13:11:19.063066Z"
    }
   },
   "outputs": [
    {
     "data": {
      "text/plain": [
       "10080"
      ]
     },
     "execution_count": 1,
     "metadata": {},
     "output_type": "execute_result"
    }
   ],
   "source": [
    "raw.length()"
   ]
  },
  {
   "cell_type": "code",
   "execution_count": 18,
   "metadata": {
    "execution": {
     "iopub.execute_input": "2023-01-25T13:11:19.065386Z",
     "iopub.status.busy": "2023-01-25T13:11:19.064991Z",
     "iopub.status.idle": "2023-01-25T13:11:19.071980Z",
     "shell.execute_reply": "2023-01-25T13:11:19.072308Z"
    }
   },
   "outputs": [
    {
     "data": {
      "text/plain": [
       "14251.683725482248"
      ]
     },
     "execution_count": 1,
     "metadata": {},
     "output_type": "execute_result"
    }
   ],
   "source": [
    "raw.ADAT(binarize=False)"
   ]
  },
  {
   "cell_type": "code",
   "execution_count": 19,
   "metadata": {
    "execution": {
     "iopub.execute_input": "2023-01-25T13:11:19.076120Z",
     "iopub.status.busy": "2023-01-25T13:11:19.075717Z",
     "iopub.status.idle": "2023-01-25T13:11:19.077363Z",
     "shell.execute_reply": "2023-01-25T13:11:19.077680Z"
    }
   },
   "outputs": [
    {
     "data": {
      "text/plain": [
       "1.1361697639502482"
      ]
     },
     "execution_count": 1,
     "metadata": {},
     "output_type": "execute_result"
    }
   ],
   "source": [
    "raw.IV(binarize=False)"
   ]
  },
  {
   "cell_type": "code",
   "execution_count": 20,
   "metadata": {
    "execution": {
     "iopub.execute_input": "2023-01-25T13:11:19.079775Z",
     "iopub.status.busy": "2023-01-25T13:11:19.079342Z",
     "iopub.status.idle": "2023-01-25T13:11:19.080630Z",
     "shell.execute_reply": "2023-01-25T13:11:19.080896Z"
    }
   },
   "outputs": [],
   "source": [
    "# If you want to mask the data\n",
    "raw.mask_inactivity = True"
   ]
  },
  {
   "cell_type": "code",
   "execution_count": 21,
   "metadata": {
    "execution": {
     "iopub.execute_input": "2023-01-25T13:11:19.085708Z",
     "iopub.status.busy": "2023-01-25T13:11:19.084615Z",
     "iopub.status.idle": "2023-01-25T13:11:19.087394Z",
     "shell.execute_reply": "2023-01-25T13:11:19.087729Z"
    }
   },
   "outputs": [
    {
     "data": {
      "text/plain": [
       "2.098938677215842"
      ]
     },
     "execution_count": 1,
     "metadata": {},
     "output_type": "execute_result"
    }
   ],
   "source": [
    "# For a gaussian noise, IV should be close to 2.\n",
    "raw.IV(binarize=False)"
   ]
  },
  {
   "cell_type": "markdown",
   "metadata": {},
   "source": [
    "The masking seems to work!"
   ]
  },
  {
   "cell_type": "markdown",
   "metadata": {},
   "source": [
    "Et voilà!"
   ]
  }
 ],
 "metadata": {
  "kernelspec": {
   "display_name": "pyActi37",
   "language": "python",
   "name": "pyacti37"
  },
  "language_info": {
   "codemirror_mode": {
    "name": "ipython",
    "version": 3
   },
   "file_extension": ".py",
   "mimetype": "text/x-python",
   "name": "python",
   "nbconvert_exporter": "python",
   "pygments_lexer": "ipython3",
   "version": "3.7.12"
  }
 },
 "nbformat": 4,
 "nbformat_minor": 2
}
